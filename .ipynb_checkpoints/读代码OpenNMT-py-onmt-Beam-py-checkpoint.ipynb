{
 "cells": [
  {
   "cell_type": "markdown",
   "metadata": {},
   "source": [
    "## 类Beam(object):\n",
    "### 变量\n",
    "- size: = beamSize\n",
    "- done: 默认false 用处目前不明 ？？？？\n",
    "- tt: = torch.cuda if cuda else torch\n",
    "- scores: beam中各个翻译的分数 初始化为self.tt.FloatTensor(size).zero_()\n",
    "- allScores: 列表类 用处目前不明 ？？？？\n",
    "- prevKs: 列表类 用处目前不明 The backpointers at each time-step ？？？？\n",
    "- nextYs: 各个时间节点的输出 初始化为[self.tt.LongTensor(size).fill_(onmt.Constants.PAD)]，nextYs[0][0] = onmt.Constants.BOS。初始只有一项\n",
    "- attn: 列表类，记录各个时间节点上的attention\n",
    "\n",
    "### 方法\n",
    "##### __init__(self, size, cuda = False):\n",
    "- size是beamSize\n",
    "- 主要是对变量进行初始化\n",
    "\n",
    "##### getCurrentState(self):\n",
    "- 获得当前时间节点的输出\n",
    "- return self.nextYs[-1]\n",
    "\n",
    "##### getCurrentOrigin(self):\n",
    "- 获得当前时间节点的backpointer\n",
    "- return self.prevKs[-1]\n",
    "\n",
    "##### advance(self, wordLK, attnOut):\n",
    "- 两个参数: wordLK由generator的输出out转化维度得到out.view(beamSize, remainingSents, -1).transpose(0, 1)\n",
    "- "
   ]
  }
 ],
 "metadata": {
  "kernelspec": {
   "display_name": "Python2-tf",
   "language": "python",
   "name": "python2"
  },
  "language_info": {
   "codemirror_mode": {
    "name": "ipython",
    "version": 2
   },
   "file_extension": ".py",
   "mimetype": "text/x-python",
   "name": "python",
   "nbconvert_exporter": "python",
   "pygments_lexer": "ipython2",
   "version": "2.7.13"
  }
 },
 "nbformat": 4,
 "nbformat_minor": 2
}
