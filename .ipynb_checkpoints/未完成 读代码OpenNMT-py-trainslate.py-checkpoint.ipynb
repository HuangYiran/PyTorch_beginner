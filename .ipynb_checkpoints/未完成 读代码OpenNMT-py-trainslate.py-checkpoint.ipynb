{
 "cells": [
  {
   "cell_type": "markdown",
   "metadata": {},
   "source": [
    "### 超参数\n",
    "- <font color=#0099ff>model: required = True 指定使用的模型的路径</font>\n",
    "- <font color=#0099ff>src: required = True 指定用于翻译的序列[sys.stdin|file]</font>\n",
    "- src_img_dir: default = \"\", 如果输入类型为Img，此路径指定对应的Img文件\n",
    "- tgt: 指定对应的正确的目标文档\n",
    "- output: default = 'pred.txt', 指定输出文档路径\n",
    "- beam_size: type = int, default = 5 Beam size\n",
    "- batch_size: type = int, default = 30 Batch size\n",
    "- max_sent_length: type = int, defalt = 100 指定句子的最大长度\n",
    "- replace_unk: action = 'store_true' 替代可能生成的UNK符号，用于替代的单词由Attention和phrase_table决定\n",
    "- verbose: action = \"store_true\" 为每个句子输出其对应的译文和译文的分数\n",
    "- dump_beam: type = str, default = \"\" 不懂事什么意思File to dump beam information to.\n",
    "- n_best: type = int, default = 1 在设置了verbose的情况下，为每个句子会输出分数最优的k个译文\n",
    "- print_nbest: action = 'store_true' 输出所有n-best列表，而不是只有分数最高的那个。 不是和n_best重复了吗？？\n",
    "- normalize: action = 'store_true' 根据句子的长度标准化分数to normalize the scores based on output length\n",
    "- gpu: type = int, default = -1 在GPU上运行"
   ]
  },
  {
   "cell_type": "markdown",
   "metadata": {},
   "source": [
    "### 方法\n",
    "##### reprotScore(name, scoreTotal, wordsTotal):\n",
    "- 根据总分和单词的数量输出平均分数和PPL\n",
    "\n",
    "##### addone(f)\n",
    "- 返回生成器，即把f中的内容，以生成器的形式返回，其中的每一项代表文档中的一行\n",
    "- 为什么叫这个名字，表示不明\n",
    "\n",
    "##### main()\n",
    "- 设置cuda\n",
    "- 把n_best设置为beam_size(所以扔这个n_best参数到底有什么意思)\n",
    "- 设置输出对象为outF=[sys.stdout|open(opt.output, 'w')]\n",
    "- 初始化分数为0：predScoreTotal, preWordsTotal, goldScoreTotal, goldWordsTotal\n",
    "- 初始化计数器count为0\n",
    "- 读取目标文件tgtF\n",
    "- 设定源文件inFile\n",
    "- 生成translator对象\n",
    "- 对inFile中的每个句子进行split处理，并以列表的形式扔进translator中，得到对应的译文和分数。\n",
    "- 后面是分数处理"
   ]
  },
  {
   "cell_type": "code",
   "execution_count": null,
   "metadata": {
    "collapsed": true
   },
   "outputs": [],
   "source": []
  }
 ],
 "metadata": {
  "kernelspec": {
   "display_name": "Python2-tf",
   "language": "python",
   "name": "python2"
  },
  "language_info": {
   "codemirror_mode": {
    "name": "ipython",
    "version": 2
   },
   "file_extension": ".py",
   "mimetype": "text/x-python",
   "name": "python",
   "nbconvert_exporter": "python",
   "pygments_lexer": "ipython2",
   "version": "2.7.13"
  }
 },
 "nbformat": 4,
 "nbformat_minor": 2
}
