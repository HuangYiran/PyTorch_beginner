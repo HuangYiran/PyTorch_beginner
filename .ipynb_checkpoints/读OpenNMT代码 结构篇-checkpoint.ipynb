{
 "cells": [
  {
   "cell_type": "markdown",
   "metadata": {},
   "source": [
    "### Encoder\n",
    "#### 属性\n",
    "- self.layers: int, encoder层的个数\n",
    "- self.num_directions: int [0, 1] 是否bidirection\n",
    "- self.hidden_size: 每个隐藏层的节点的数量，这里指的是每个方向的数量，如果是bidirection，那么总的数量应该是它的两倍。\n",
    "- self.mebeddings\n",
    "#### assert\n",
    "assert opt.rnn_size % self.num_direction == 0"
   ]
  },
  {
   "cell_type": "markdown",
   "metadata": {},
   "source": [
    "卡在embeddings，先把对应的代码看了。"
   ]
  }
 ],
 "metadata": {
  "kernelspec": {
   "display_name": "Python 3",
   "language": "python",
   "name": "python3"
  },
  "language_info": {
   "codemirror_mode": {
    "name": "ipython",
    "version": 3
   },
   "file_extension": ".py",
   "mimetype": "text/x-python",
   "name": "python",
   "nbconvert_exporter": "python",
   "pygments_lexer": "ipython3",
   "version": "3.6.1"
  }
 },
 "nbformat": 4,
 "nbformat_minor": 2
}
