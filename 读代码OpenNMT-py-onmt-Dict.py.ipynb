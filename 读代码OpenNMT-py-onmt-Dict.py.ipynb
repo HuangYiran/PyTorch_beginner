{
 "cells": [
  {
   "cell_type": "markdown",
   "metadata": {},
   "source": [
    "# 类Dict(object)\n",
    "### 变量\n",
    "- IdxToLabel: 词典类\n",
    "- labelToIdx: 词典类\n",
    "- frequencies: 词典类 记载每个词汇(用index表示)出现的频率\n",
    "- lower: boolean类型\n",
    "- special: 列表类型 记录特殊字符，该列表中的字符在prune的时候将会被保留\n",
    "\n",
    "### 方法\n",
    "##### size(self):\n",
    "- 返回词汇表的长度\n",
    "\n",
    "##### loadFile(self, filename):\n",
    "- 从文档中读取项目，该文档中每一行由单词和它对应的index组合而成，并用空格符号分隔开（单词在前，index在后）\n",
    "\n",
    "##### writeFile(self, filename):\n",
    "- 把词汇表的项目写到文档中，文档格式和loadFile中提到的一样\n",
    "\n",
    "##### lookup(self, key, default = None):\n",
    "- 给定单词，找到他对应的index，如果单词不存在则抛出异常, default为找不到单词的时候应该返回的内容\n",
    "\n",
    "##### getLabel(self, idx, default = Noen):\n",
    "- 给定index，返回对应的单词(Label)，如果index不存在则抛出异常，default为找不到index的时候应该返回的内容\n",
    "\n",
    "##### addSpecial(self, label, idx = None)\n",
    "- 把label加入到词汇表中，并把他标记为special\n",
    "\n",
    "##### addSpecials(self, labels):\n",
    "- 把labels中的label都加入到词汇表中，并标记为special\n",
    "\n",
    "##### add(self, label, idx = None):\n",
    "- 把label index对加入到词汇表中，但是这里好像没有考虑到冲突的情况，也就是给定的idx是错误的情况\n",
    "\n",
    "##### prune(self, size):\n",
    "- 返回一个新的Dict实习，而且只包含当前词汇表中出现频率前size个的词汇。\n",
    "\n",
    "##### convertToIdx(self, labels, unkWord, bosWord = None, eosWord = None):\n",
    "- 把列表labels转换成对应的indexes列表，如果出现位置单词，则把他标记为unkWord。根据选择可以在生成的列表的前端加入bosWord或在其后端加入eosWord。\n",
    "\n",
    "##### convertToLabel(self, idx, stop):\n",
    "- 把idx类标的中index翻译成对应的labels。当出现stop指定的index的时候，停止翻译，并把到目前为止的内容输出。"
   ]
  },
  {
   "cell_type": "code",
   "execution_count": null,
   "metadata": {
    "collapsed": true
   },
   "outputs": [],
   "source": []
  }
 ],
 "metadata": {
  "kernelspec": {
   "display_name": "Python2-tf",
   "language": "python",
   "name": "python2"
  },
  "language_info": {
   "codemirror_mode": {
    "name": "ipython",
    "version": 2
   },
   "file_extension": ".py",
   "mimetype": "text/x-python",
   "name": "python",
   "nbconvert_exporter": "python",
   "pygments_lexer": "ipython2",
   "version": "2.7.13"
  }
 },
 "nbformat": 4,
 "nbformat_minor": 2
}
